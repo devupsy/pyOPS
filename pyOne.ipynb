{
 "cells": [
  {
   "cell_type": "code",
   "execution_count": 1,
   "metadata": {},
   "outputs": [
    {
     "name": "stdout",
     "output_type": "stream",
     "text": [
      "Hello NEW! Challenge!\n"
     ]
    }
   ],
   "source": [
    "print('Hello NEW! Challenge!')"
   ]
  },
  {
   "cell_type": "code",
   "execution_count": 6,
   "metadata": {},
   "outputs": [
    {
     "name": "stdout",
     "output_type": "stream",
     "text": [
      "print('What can\n",
      "       u say?')\n"
     ]
    }
   ],
   "source": [
    "print(\"print('What can\\n       u say?')\")"
   ]
  },
  {
   "cell_type": "code",
   "execution_count": 8,
   "metadata": {},
   "outputs": [
    {
     "name": "stdout",
     "output_type": "stream",
     "text": [
      "Hello devupsy\n"
     ]
    }
   ],
   "source": [
    "print('Hello' + ' ' + 'devupsy')"
   ]
  },
  {
   "cell_type": "code",
   "execution_count": 13,
   "metadata": {},
   "outputs": [
    {
     "name": "stdout",
     "output_type": "stream",
     "text": [
      "Hello devupsy!\n"
     ]
    }
   ],
   "source": [
    "print( \"Hello \" + input('What is your name?') + \"!\")"
   ]
  },
  {
   "cell_type": "code",
   "execution_count": 19,
   "metadata": {},
   "outputs": [
    {
     "name": "stdout",
     "output_type": "stream",
     "text": [
      "devupsy\n",
      "7\n"
     ]
    }
   ],
   "source": [
    "name = input('what is your name? ')\n",
    "print(name)\n",
    "print(len(name))"
   ]
  },
  {
   "cell_type": "code",
   "execution_count": 20,
   "metadata": {},
   "outputs": [
    {
     "name": "stdout",
     "output_type": "stream",
     "text": [
      "5\n",
      "7\n"
     ]
    }
   ],
   "source": [
    "a = 7\n",
    "b = 5\n",
    "\n",
    "c = a\n",
    "\n",
    "a = b\n",
    "b = c\n",
    "print(a)\n",
    "print(b)"
   ]
  },
  {
   "cell_type": "code",
   "execution_count": 4,
   "metadata": {},
   "outputs": [
    {
     "name": "stdout",
     "output_type": "stream",
     "text": [
      "Welcome to band name generator!\n",
      "Your band name could be  \n"
     ]
    }
   ],
   "source": [
    "print(\"Welcome to band name generator!\")\n",
    "city = input('What is your grew up city?\\n')\n",
    "pet_name = input('What is your pet name? \\n')\n",
    "print('Your band name could be ' + city + \" \" + pet_name)"
   ]
  },
  {
   "cell_type": "code",
   "execution_count": 5,
   "metadata": {},
   "outputs": [
    {
     "data": {
      "text/plain": [
       "int"
      ]
     },
     "execution_count": 5,
     "metadata": {},
     "output_type": "execute_result"
    }
   ],
   "source": [
    "type(12358)"
   ]
  },
  {
   "cell_type": "code",
   "execution_count": 3,
   "metadata": {},
   "outputs": [
    {
     "name": "stdout",
     "output_type": "stream",
     "text": [
      "Welcome to the tip calculator.\n",
      "Each person should pay: $110.0\n"
     ]
    }
   ],
   "source": [
    "print('Welcome to the tip calculator.')\n",
    "total_bill = int(input('What was the total bill? '))\n",
    "people = int(input('How many people to split the bill? '))\n",
    "perc_tip = int(input('What percentage tip would you like to give? 10, 12, or 15? '))\n",
    "print('Each person should pay: $' + str((total_bill * (1 + perc_tip / 100))/ people))\n"
   ]
  },
  {
   "cell_type": "code",
   "execution_count": 6,
   "metadata": {},
   "outputs": [
    {
     "data": {
      "text/plain": [
       "str"
      ]
     },
     "execution_count": 6,
     "metadata": {},
     "output_type": "execute_result"
    }
   ],
   "source": [
    "\n",
    "type(input('how many '))"
   ]
  },
  {
   "cell_type": "code",
   "execution_count": 5,
   "metadata": {},
   "outputs": [
    {
     "name": "stdout",
     "output_type": "stream",
     "text": [
      "7\n"
     ]
    }
   ],
   "source": [
    "two_d_number = input('Type a two digit number: ')\n",
    "if int(two_d_number) / 10 >= 1:\n",
    "    print(int(two_d_number[0]) + int(two_d_number[1]))\n",
    "else:\n",
    "    print(two_d_number)"
   ]
  },
  {
   "cell_type": "code",
   "execution_count": 17,
   "metadata": {},
   "outputs": [
    {
     "name": "stdout",
     "output_type": "stream",
     "text": [
      "Your BMI score is: 24\n"
     ]
    }
   ],
   "source": [
    "height = float(input('what its your height in meter:  '))\n",
    "weight = float(input('what its your weight in kilograms:  '))\n",
    "bmi = int((weight)/(height)**2)\n",
    "print('Your BMI score is: ' + str(bmi))"
   ]
  },
  {
   "cell_type": "code",
   "execution_count": 19,
   "metadata": {},
   "outputs": [
    {
     "name": "stdout",
     "output_type": "stream",
     "text": [
      "2\n",
      "<class 'int'>\n",
      "<class 'float'>\n"
     ]
    }
   ],
   "source": [
    "print(8 // 3) # floor int \n",
    "print(type(8//3))\n",
    "print(type(8/3))\n"
   ]
  },
  {
   "cell_type": "code",
   "execution_count": 20,
   "metadata": {},
   "outputs": [
    {
     "name": "stdout",
     "output_type": "stream",
     "text": [
      "Your bmi score is 24.\n"
     ]
    }
   ],
   "source": [
    "print(f\"Your bmi score is {bmi}.\")"
   ]
  },
  {
   "cell_type": "code",
   "execution_count": 1,
   "metadata": {},
   "outputs": [
    {
     "name": "stdout",
     "output_type": "stream",
     "text": [
      "You have 23725 days, 3380 weeks, and 780 months left.\n"
     ]
    }
   ],
   "source": [
    "age = input('What is your current age? ')\n",
    "age = int(age)\n",
    "\n",
    "left_year = 90 - age\n",
    "left_days = left_year * 365\n",
    "left_months = left_year * 12\n",
    "left_weeks = left_year * 52\n",
    "\n",
    "print(f\"You have {left_days} days, {left_weeks} weeks, and {left_months} months left.\")"
   ]
  }
 ],
 "metadata": {
  "interpreter": {
   "hash": "0f0e7c461abd7e0576b8ea69d7d7a0619dd95f41dc53f930b3a1679d148dee5b"
  },
  "kernelspec": {
   "display_name": "Python 3.9.7 ('base')",
   "language": "python",
   "name": "python3"
  },
  "language_info": {
   "codemirror_mode": {
    "name": "ipython",
    "version": 3
   },
   "file_extension": ".py",
   "mimetype": "text/x-python",
   "name": "python",
   "nbconvert_exporter": "python",
   "pygments_lexer": "ipython3",
   "version": "3.9.7"
  },
  "orig_nbformat": 4
 },
 "nbformat": 4,
 "nbformat_minor": 2
}
